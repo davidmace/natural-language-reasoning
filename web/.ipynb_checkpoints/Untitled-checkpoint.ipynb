{
 "cells": [
  {
   "cell_type": "code",
   "execution_count": 2,
   "metadata": {
    "collapsed": false
   },
   "outputs": [],
   "source": [
    "from main import *\n",
    "%load_ext autoreload\n",
    "%autoreload 2"
   ]
  },
  {
   "cell_type": "code",
   "execution_count": null,
   "metadata": {
    "collapsed": true
   },
   "outputs": [],
   "source": []
  },
  {
   "cell_type": "code",
   "execution_count": 113,
   "metadata": {
    "collapsed": false
   },
   "outputs": [],
   "source": [
    "# ANSWER TESTS\n",
    "\n",
    "tests = [\n",
    "    ('raccoon eat garbage',True),\n",
    "    ('dog eat chocolate',False),\n",
    "    \n",
    "    ('bird fly outerspace',False),\n",
    "    ('bird fly april',True),\n",
    "    ('dog fly april',False),\n",
    "    ('bird swim april',None),\n",
    "    \n",
    "    ('airplane fit brick',False),\n",
    "    ('brick sink water',True),\n",
    "    ('unicorn sink water',None),\n",
    "    ('water sink unicorn',None),\n",
    "    \n",
    "    ('dog jump dog', True),\n",
    "    ('dog jump house',False),\n",
    "    ('dog jump unicorn',None),\n",
    "    ('unicorn jump dog',None)\n",
    "    \n",
    "]\n",
    "\n",
    "Z = load_rules()\n",
    "Z['DEBUG'] = False\n",
    "for (q,t) in tests :\n",
    "    words = q.split()\n",
    "    w0,w1,w2 = reduce_words(words[0],words[1],words[2],Z)\n",
    "    ans = answer_question(w0,w1,w2,Z)\n",
    "    #print '\\t',t,ans,w0,w1,w2\n",
    "    #print ''\n",
    "    assert(ans==t)"
   ]
  },
  {
   "cell_type": "code",
   "execution_count": 114,
   "metadata": {
    "collapsed": false
   },
   "outputs": [],
   "source": [
    "# PASSIVE VERB TEST\n",
    "Z = load_rules()\n",
    "Z['DEBUG'] = False\n",
    "save = {'questions': [], 'cur_question': ()}\n",
    "\n",
    "message('dog smash cat',Z,save)\n",
    "message('peanut',Z,save)\n",
    "message('train',Z,save)\n",
    "ans = message('dog smash cat',Z,save); assert('No' in ans)\n",
    "ans = message('cat smash dog',Z,save); assert('Yes' in ans)\n",
    "message('cat smash giraffe',Z,save)\n",
    "message('peanut',Z,save)\n",
    "ans = message('cat smash giraffe',Z,save); assert('Yes' in ans)\n",
    "ans = message('dog smash giraffe',Z,save); assert('No' in ans)"
   ]
  },
  {
   "cell_type": "code",
   "execution_count": 115,
   "metadata": {
    "collapsed": false
   },
   "outputs": [],
   "source": [
    "# ACTIVE VERB TEST\n",
    "Z = load_rules()\n",
    "Z['DEBUG'] = False\n",
    "save = {'questions': [], 'cur_question': ()}\n",
    "\n",
    "message('unicorn throw wave',Z,save)\n",
    "message('peanut',Z,save)\n",
    "message('brick',Z,save)\n",
    "ans = message('unicorn throw wave',Z,save); assert('Yes' in ans)\n",
    "message('unicorn throw gopher',Z,save)\n",
    "message('peanut',Z,save)\n",
    "ans = message('unicorn throw gopher',Z,save); assert('Yes' in ans)\n",
    "message('gopher throw unicorn',Z,save)\n",
    "message('train',Z,save)\n",
    "message('cellphone',Z,save)\n",
    "ans = message('gopher throw unicorn',Z,save); assert('No' in ans)"
   ]
  },
  {
   "cell_type": "code",
   "execution_count": null,
   "metadata": {
    "collapsed": false
   },
   "outputs": [],
   "source": []
  },
  {
   "cell_type": "code",
   "execution_count": 6,
   "metadata": {
    "collapsed": false
   },
   "outputs": [
    {
     "data": {
      "text/plain": [
       "{'reason_formulas': {' $0 is $1 ': ('req', [True, True, True], [0, 2, -1]),\n",
       "  ' $0 is a $1 ': ('sub', [True, True, True], [-1, -1, -1]),\n",
       "  ' $0 is not $1 ': ('req', [True, False, True], [-1, -1, -1]),\n",
       "  ' $0 is the opposite of $1 ': ('neg', [True, True, True], [-1, -1, -1]),\n",
       "  ' a $0 can $1 ': ('req', [True, True, True], [-1, -1, -1]),\n",
       "  ' a $0 is a $1 ': ('sub', [True, True, True], [-1, -1, -1]),\n",
       "  ' a $0 needs $1 ': ('req', [True, True, True], [0, 2, -1]),\n",
       "  ' a $1 does not $2 chocolate ': ('obs', [True, True, True], [-1, -1, -1]),\n",
       "  ' there is no $1 in $0 ': ('req', [True, False, True], [-1, -1, -1])},\n",
       " 'syntax_words': {'a',\n",
       "  'can',\n",
       "  'chocolate',\n",
       "  'does',\n",
       "  'in',\n",
       "  'is',\n",
       "  'needs',\n",
       "  'no',\n",
       "  'not',\n",
       "  'of',\n",
       "  'opposite',\n",
       "  'the',\n",
       "  'there'}}"
      ]
     },
     "execution_count": 6,
     "metadata": {},
     "output_type": "execute_result"
    }
   ],
   "source": [
    "Y"
   ]
  },
  {
   "cell_type": "code",
   "execution_count": 30,
   "metadata": {
    "collapsed": false
   },
   "outputs": [
    {
     "name": "stdout",
     "output_type": "stream",
     "text": [
      "radish done\n",
      " $0 is not $1 \n",
      "req [True, False, True] [-1, -1, -1]\n"
     ]
    },
    {
     "data": {
      "text/plain": [
       "True"
      ]
     },
     "execution_count": 30,
     "metadata": {},
     "output_type": "execute_result"
    }
   ],
   "source": [
    "process_reason('radish is the opposite of onion',Z,Y)"
   ]
  },
  {
   "cell_type": "code",
   "execution_count": 32,
   "metadata": {
    "collapsed": false
   },
   "outputs": [
    {
     "data": {
      "text/plain": [
       "{u'dead': u'aliv',\n",
       " u'fit': u'not-fit',\n",
       " u'float': u'sink',\n",
       " u'jump': u'not-jump',\n",
       " u'radish': u'onion',\n",
       " u'throw': u'not-throw'}"
      ]
     },
     "execution_count": 32,
     "metadata": {},
     "output_type": "execute_result"
    }
   ],
   "source": [
    "Z['negations']"
   ]
  },
  {
   "cell_type": "code",
   "execution_count": null,
   "metadata": {
    "collapsed": true
   },
   "outputs": [],
   "source": []
  },
  {
   "cell_type": "code",
   "execution_count": 45,
   "metadata": {
    "collapsed": false
   },
   "outputs": [
    {
     "name": "stdout",
     "output_type": "stream",
     "text": [
      " a $0 is a $1 \n",
      "radish dog \n",
      "sub [True, True, True] [-1, -1, -1]\n",
      "{(u'garbag', -1): [(u'edibl', -1, False)], (u'height:gat', -1): [(u'height:box', -1, True)], (u'eat', 1): [(u'edibl', 2, True)], (u'bird', -1): [(u'fli', -1, True)], (u'size:airplan', -1): [(u'size:train', -1, True)], (u'height:dog', -1): [(u'height:inch', -1, True)], (u'weight:eleph', -1): [(u'weight:car', -1, True)], (u'fli', 1): [(u'fli', 0, True)], (u'anim', 0): [(u'air', 2, True)], (u'einstein', 0): [(u'aliv', 2, False)], (u'dog', -1): [(u'fli', -1, False)], (u'outerspac', -1): [(u'air', -1, False)]}\n",
      " $0 is the opposite of $1 \n",
      "radish onion \n",
      "neg [True, True, True] [-1, -1, -1]\n",
      " $0 is not $1 \n",
      "radish done \n",
      "req [True, False, True] [-1, -1, -1]\n"
     ]
    }
   ],
   "source": [
    "Z = load_rules()\n",
    "Z['DEBUG'] = False\n",
    "Y = load_reasons()\n",
    "\n",
    "process_reason('a radishes is a dogs',Z,Y)\n",
    "print Z['requirements']\n",
    "assert(Z['subclass_parents']['radish']=='dog')\n",
    "\n",
    "process_reason('radish is the opposite of onion',Z,Y)\n",
    "assert(Z['negations']['radish']=='onion')\n",
    "    \n",
    "process_reason('radish is not done',Z,Y)\n",
    "assert((u'done', -1, False) in Z['requirements'][(u'radish', -1)])\n",
    "\n",
    "process_reason('a cheetah runs fast',Z,Y)\n",
    "assert( Z[(u'cheetah', u'run', u'fast')]==True )"
   ]
  },
  {
   "cell_type": "code",
   "execution_count": 46,
   "metadata": {
    "collapsed": false
   },
   "outputs": [
    {
     "name": "stdout",
     "output_type": "stream",
     "text": [
      " a $0 $1 $2 \n",
      "cheetah run fast\n",
      "obs [True, True, True] [-1, -1, -1]\n"
     ]
    },
    {
     "data": {
      "text/plain": [
       "True"
      ]
     },
     "execution_count": 46,
     "metadata": {},
     "output_type": "execute_result"
    }
   ],
   "source": [
    "process_reason('a cheetah runs fast',Z,Y)"
   ]
  },
  {
   "cell_type": "code",
   "execution_count": 48,
   "metadata": {
    "collapsed": false
   },
   "outputs": [
    {
     "data": {
      "text/plain": [
       "{(u'anim', u'eat', u'garbag'): True,\n",
       " (u'cheetah', u'run', u'fast'): True,\n",
       " (u'dog', u'eat', u'chocol'): False}"
      ]
     },
     "execution_count": 48,
     "metadata": {},
     "output_type": "execute_result"
    }
   ],
   "source": [
    "Z['observations']"
   ]
  },
  {
   "cell_type": "code",
   "execution_count": null,
   "metadata": {
    "collapsed": true
   },
   "outputs": [],
   "source": []
  },
  {
   "cell_type": "code",
   "execution_count": null,
   "metadata": {
    "collapsed": true
   },
   "outputs": [],
   "source": []
  },
  {
   "cell_type": "code",
   "execution_count": null,
   "metadata": {
    "collapsed": true
   },
   "outputs": [],
   "source": []
  },
  {
   "cell_type": "code",
   "execution_count": null,
   "metadata": {
    "collapsed": true
   },
   "outputs": [],
   "source": []
  },
  {
   "cell_type": "code",
   "execution_count": null,
   "metadata": {
    "collapsed": true
   },
   "outputs": [],
   "source": []
  },
  {
   "cell_type": "code",
   "execution_count": null,
   "metadata": {
    "collapsed": true
   },
   "outputs": [],
   "source": []
  }
 ],
 "metadata": {
  "kernelspec": {
   "display_name": "Python 2",
   "language": "python",
   "name": "python2"
  },
  "language_info": {
   "codemirror_mode": {
    "name": "ipython",
    "version": 2
   },
   "file_extension": ".py",
   "mimetype": "text/x-python",
   "name": "python",
   "nbconvert_exporter": "python",
   "pygments_lexer": "ipython2",
   "version": "2.7.13"
  }
 },
 "nbformat": 4,
 "nbformat_minor": 0
}
