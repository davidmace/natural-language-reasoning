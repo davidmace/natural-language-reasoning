{
 "cells": [
  {
   "cell_type": "code",
   "execution_count": 1,
   "metadata": {
    "collapsed": false
   },
   "outputs": [],
   "source": [
    "from main import *\n",
    "%load_ext autoreload\n",
    "%autoreload 2"
   ]
  },
  {
   "cell_type": "code",
   "execution_count": 103,
   "metadata": {
    "collapsed": false
   },
   "outputs": [],
   "source": [
    "# REASON VERB TESTS\n",
    "Z = load_rules()\n",
    "Z['DEBUG'] = True\n",
    "Y = load_reasons()\n",
    "Y['DEBUG'] = True\n",
    "save = {'questions': [], 'cur_question': ()}"
   ]
  },
  {
   "cell_type": "code",
   "execution_count": 104,
   "metadata": {
    "collapsed": false
   },
   "outputs": [
    {
     "name": "stdout",
     "output_type": "stream",
     "text": [
      "check_reductions parrot fli outerspac\n",
      "check_reductions returns None\n",
      "observations (u'parrot', u'fli', u'outerspac')\n",
      "check_observations returns None\n",
      "explore (u'parrot', 0, True, {})\n",
      "explore (u'fli', 1, True, {(u'parrot', 0): True})\n",
      "explore (u'fli', 0, True, {(u'fli', 1): True, (u'parrot', 0): True})\n",
      "explore (u'outerspac', 2, True, {(u'fli', 1): True, (u'fli', 0): True, (u'parrot', 0): True})\n",
      "explore (u'air', 2, False, {(u'fli', 1): True, (u'outerspac', 2): True, (u'fli', 0): True, (u'parrot', 0): True})\n",
      "requirements None None None\n",
      "check_requirements returns None\n"
     ]
    },
    {
     "data": {
      "text/plain": [
       "\"I don't know. Explain the answer to me.\""
      ]
     },
     "execution_count": 104,
     "metadata": {},
     "output_type": "execute_result"
    }
   ],
   "source": [
    "message('can a parrot fly in outerspace?',Z,Y,save)"
   ]
  },
  {
   "cell_type": "code",
   "execution_count": 105,
   "metadata": {
    "collapsed": false
   },
   "outputs": [
    {
     "name": "stdout",
     "output_type": "stream",
     "text": [
      " a $ can $ \n",
      "('req', '01', [True, True, True], [0, 1, -1])\n",
      "bird fli \n",
      " a $ is a $ \n",
      "('sub', '01', [True, True, True], [-1, -1, -1])\n",
      "parrot bird \n",
      " a $ needs $ \n",
      "('req', '01', [True, True, True], [0, 2, -1])\n",
      "anim air \n",
      " a $ is a $ \n",
      "('sub', '01', [True, True, True], [-1, -1, -1])\n",
      "bird anim \n",
      " there is no $ in $ \n",
      "('req', '10', [True, False, True], [-1, -1, -1])\n",
      "outerspac air \n"
     ]
    },
    {
     "data": {
      "text/plain": [
       "'Thanks.|Ask me a question.'"
      ]
     },
     "execution_count": 105,
     "metadata": {},
     "output_type": "execute_result"
    }
   ],
   "source": [
    "message('A bird can fly. A parrot is a bird. An animal needs air. A bird is an animal. There is no air in outerspace.',Z,Y,save)"
   ]
  },
  {
   "cell_type": "code",
   "execution_count": 107,
   "metadata": {
    "collapsed": false
   },
   "outputs": [
    {
     "name": "stdout",
     "output_type": "stream",
     "text": [
      "check_reductions parrot fli outerspac\n",
      "check_reductions bird fli outerspac\n",
      "check_reductions anim fli outerspac\n",
      "check_reductions returns None\n",
      "observations (u'parrot', u'fli', u'outerspac')\n",
      "observations (u'bird', u'fli', u'outerspac')\n",
      "observations (u'anim', u'fli', u'outerspac')\n",
      "check_observations returns None\n",
      "explore (u'parrot', 0, True, {})\n",
      "explore (u'bird', 0, True, {(u'parrot', 0): True})\n",
      "explore (u'fli', 0, True, {(u'parrot', 0): True, (u'bird', 0): True})\n",
      "explore (u'fli', 1, True, {(u'fli', 0): True, (u'parrot', 0): True, (u'bird', 0): True})\n",
      "explore (u'fli', 0, True, {(u'fli', 1): True, (u'fli', 0): True, (u'parrot', 0): True, (u'bird', 0): True})\n",
      "explore (u'anim', 0, True, {(u'fli', 1): True, (u'fli', 0): True, (u'parrot', 0): True, (u'bird', 0): True})\n",
      "explore (u'air', 2, True, {(u'fli', 1): True, (u'anim', 0): True, (u'fli', 0): True, (u'parrot', 0): True, (u'bird', 0): True})\n",
      "explore (u'air', 2, True, {(u'air', 2): True, (u'anim', 0): True, (u'parrot', 0): True, (u'bird', 0): True, (u'fli', 1): True, (u'fli', 0): True})\n",
      "explore (u'fli', 1, True, {(u'air', 2): True, (u'anim', 0): True, (u'parrot', 0): True, (u'bird', 0): True, (u'fli', 1): True, (u'fli', 0): True})\n",
      "explore True (u'fli', 1)\n",
      "explore (u'outerspac', 2, True, {(u'air', 2): True, (u'anim', 0): True, (u'parrot', 0): True, (u'bird', 0): True, (u'fli', 1): True, (u'fli', 0): True})\n",
      "explore (u'air', 2, False, {(u'air', 2): True, (u'anim', 0): True, (u'parrot', 0): True, (u'bird', 0): True, (u'fli', 1): True, (u'outerspac', 2): True, (u'fli', 0): True})\n",
      "explore False (u'air', 2)\n",
      "explore (u'air', 2, False, {(u'air', 2): True, (u'anim', 0): True, (u'parrot', 0): True, (u'bird', 0): True, (u'fli', 1): True, (u'outerspac', 2): True, (u'fli', 0): True})\n",
      "explore False (u'air', 2)\n",
      "requirements None True False\n",
      "check_requirements returns False\n"
     ]
    },
    {
     "data": {
      "text/plain": [
       "'No.| Ask me question.'"
      ]
     },
     "execution_count": 107,
     "metadata": {},
     "output_type": "execute_result"
    }
   ],
   "source": [
    "message('can a parrot fly in outerspace?',Z,Y,save)"
   ]
  },
  {
   "cell_type": "code",
   "execution_count": 72,
   "metadata": {
    "collapsed": false
   },
   "outputs": [
    {
     "data": {
      "text/plain": [
       "'Thanks.|Ask me a question.'"
      ]
     },
     "execution_count": 72,
     "metadata": {},
     "output_type": "execute_result"
    }
   ],
   "source": [
    "message('brick',Z,Y,save)"
   ]
  },
  {
   "cell_type": "code",
   "execution_count": 73,
   "metadata": {
    "collapsed": false
   },
   "outputs": [
    {
     "name": "stdout",
     "output_type": "stream",
     "text": [
      "check_reductions human lift giraff\n",
      "reduce_quality weight:giraff\n",
      "reduce_quality weight:brick\n",
      "check_reductions returns True\n"
     ]
    },
    {
     "data": {
      "text/plain": [
       "'Yes.| Ask me question.'"
      ]
     },
     "execution_count": 73,
     "metadata": {},
     "output_type": "execute_result"
    }
   ],
   "source": [
    "message('Can a person lift a giraffe?',Z,Y,save)"
   ]
  },
  {
   "cell_type": "code",
   "execution_count": 74,
   "metadata": {
    "collapsed": false
   },
   "outputs": [
    {
     "name": "stdout",
     "output_type": "stream",
     "text": [
      "check_reductions human lift rhino\n",
      "reduce_quality weight:rhino\n",
      "reduce_quality weight:human\n",
      "reduce_quality weight:rhino\n",
      "check_reductions returns None\n",
      "observations ('human', u'lift', u'rhino')\n",
      "check_observations returns None\n",
      "explore ('human', 0, True, {})\n",
      "explore (u'lift', 1, True, {('human', 0): True})\n",
      "explore (u'rhino', 2, True, {(u'lift', 1): True, ('human', 0): True})\n",
      "requirements None None None\n",
      "check_requirements returns None\n"
     ]
    },
    {
     "data": {
      "text/plain": [
       "u'What is closest to the weight of rhino? (train,car,brick,cellphon,peanut)'"
      ]
     },
     "execution_count": 74,
     "metadata": {},
     "output_type": "execute_result"
    }
   ],
   "source": [
    "message('Can a person lift a rhino?',Z,Y,save)"
   ]
  },
  {
   "cell_type": "code",
   "execution_count": 76,
   "metadata": {
    "collapsed": false
   },
   "outputs": [
    {
     "data": {
      "text/plain": [
       "'Thanks.|Ask me a question.'"
      ]
     },
     "execution_count": 76,
     "metadata": {},
     "output_type": "execute_result"
    }
   ],
   "source": [
    "message('train',Z,Y,save)"
   ]
  },
  {
   "cell_type": "code",
   "execution_count": 77,
   "metadata": {
    "collapsed": false
   },
   "outputs": [
    {
     "name": "stdout",
     "output_type": "stream",
     "text": [
      "check_reductions human lift rhino\n",
      "reduce_quality weight:rhino\n",
      "reduce_quality weight:train\n",
      "check_reductions returns False\n"
     ]
    },
    {
     "data": {
      "text/plain": [
       "'No.| Ask me question.'"
      ]
     },
     "execution_count": 77,
     "metadata": {},
     "output_type": "execute_result"
    }
   ],
   "source": [
    "message('Can a person lift a rhino?',Z,Y,save)"
   ]
  },
  {
   "cell_type": "code",
   "execution_count": 113,
   "metadata": {
    "collapsed": false
   },
   "outputs": [],
   "source": [
    "# ANSWER TESTS\n",
    "\n",
    "tests = [\n",
    "    ('raccoon eat garbage',True),\n",
    "    ('dog eat chocolate',False),\n",
    "    \n",
    "    ('bird fly outerspace',False),\n",
    "    ('bird fly april',True),\n",
    "    ('dog fly april',False),\n",
    "    ('bird swim april',None),\n",
    "    \n",
    "    ('airplane fit brick',False),\n",
    "    ('brick sink water',True),\n",
    "    ('unicorn sink water',None),\n",
    "    ('water sink unicorn',None),\n",
    "    \n",
    "    ('dog jump dog', True),\n",
    "    ('dog jump house',False),\n",
    "    ('dog jump unicorn',None),\n",
    "    ('unicorn jump dog',None)\n",
    "    \n",
    "]\n",
    "\n",
    "Z = load_rules()\n",
    "Z['DEBUG'] = False\n",
    "for (q,t) in tests :\n",
    "    words = q.split()\n",
    "    w0,w1,w2 = reduce_words(words[0],words[1],words[2],Z)\n",
    "    ans = answer_question(w0,w1,w2,Z)\n",
    "    #print '\\t',t,ans,w0,w1,w2\n",
    "    #print ''\n",
    "    assert(ans==t)"
   ]
  },
  {
   "cell_type": "code",
   "execution_count": 114,
   "metadata": {
    "collapsed": false
   },
   "outputs": [],
   "source": [
    "# PASSIVE VERB TEST\n",
    "Z = load_rules()\n",
    "Z['DEBUG'] = False\n",
    "save = {'questions': [], 'cur_question': ()}\n",
    "\n",
    "message('dog smash cat',Z,save)\n",
    "message('peanut',Z,save)\n",
    "message('train',Z,save)\n",
    "ans = message('dog smash cat',Z,save); assert('No' in ans)\n",
    "ans = message('cat smash dog',Z,save); assert('Yes' in ans)\n",
    "message('cat smash giraffe',Z,save)\n",
    "message('peanut',Z,save)\n",
    "ans = message('cat smash giraffe',Z,save); assert('Yes' in ans)\n",
    "ans = message('dog smash giraffe',Z,save); assert('No' in ans)"
   ]
  },
  {
   "cell_type": "code",
   "execution_count": 115,
   "metadata": {
    "collapsed": false
   },
   "outputs": [],
   "source": [
    "# ACTIVE VERB TEST\n",
    "Z = load_rules()\n",
    "Z['DEBUG'] = False\n",
    "save = {'questions': [], 'cur_question': ()}\n",
    "\n",
    "message('unicorn throw wave',Z,save)\n",
    "message('peanut',Z,save)\n",
    "message('brick',Z,save)\n",
    "ans = message('unicorn throw wave',Z,save); assert('Yes' in ans)\n",
    "message('unicorn throw gopher',Z,save)\n",
    "message('peanut',Z,save)\n",
    "ans = message('unicorn throw gopher',Z,save); assert('Yes' in ans)\n",
    "message('gopher throw unicorn',Z,save)\n",
    "message('train',Z,save)\n",
    "message('cellphone',Z,save)\n",
    "ans = message('gopher throw unicorn',Z,save); assert('No' in ans)"
   ]
  },
  {
   "cell_type": "code",
   "execution_count": 67,
   "metadata": {
    "collapsed": false
   },
   "outputs": [
    {
     "name": "stdout",
     "output_type": "stream",
     "text": [
      " a $0 is a $1 \n",
      "radish dog \n",
      "('sub', [True, True, True], [-1, -1, -1])\n",
      " $0 is a opposite of $1 \n",
      "radish onion \n",
      "('neg', [True, True, True], [-1, -1, -1])\n",
      " $0 is not $1 \n",
      "radish done \n",
      "('req', [True, False, True], [-1, -1, -1])\n",
      " a $0 $1 $2 \n",
      "cheetah run fast\n",
      "('obs', [True, True, True], [-1, -1, -1])\n"
     ]
    }
   ],
   "source": [
    "# REASON PARSING TESTS\n",
    "Z = load_rules()\n",
    "Z['DEBUG'] = False\n",
    "Y = load_reasons()\n",
    "Y['DEBUG'] = True\n",
    "\n",
    "process_reason('a radishes is a dogs',Z,Y)\n",
    "assert(Z['subclass_parents']['radish']=='dog')\n",
    "\n",
    "process_reason('radish is the opposite of onion',Z,Y)\n",
    "assert(Z['negations']['radish']=='onion')\n",
    "    \n",
    "process_reason('radish is not done',Z,Y)\n",
    "assert((u'done', -1, False) in Z['requirements'][(u'radish', -1)])\n",
    "\n",
    "process_reason('a cheetah runs fast',Z,Y)\n",
    "assert( Z['observations'][(u'cheetah', u'run', u'fast')]==True )"
   ]
  },
  {
   "cell_type": "code",
   "execution_count": 119,
   "metadata": {
    "collapsed": false
   },
   "outputs": [
    {
     "name": "stdout",
     "output_type": "stream",
     "text": [
      " a $0 cannot $1 \n",
      "eleph swim \n",
      "('req', [True, False, True], [0, 1, -1])\n",
      " you need $0 to $1 \n",
      "water swim \n",
      "('req', [True, False, True], [2, 1, -1])\n",
      " a $0 has no $1 \n",
      "desert water \n",
      "('req', [True, False, True], [-1, -1, -1])\n"
     ]
    }
   ],
   "source": [
    "# REASON VERB TESTS\n",
    "Z = load_rules()\n",
    "Z['DEBUG'] = False\n",
    "Y = load_reasons()\n",
    "Y['DEBUG'] = True\n",
    "save = {'questions': [], 'cur_question': ()}\n",
    "\n",
    "message('elephant swim april',Z,Y,save)\n",
    "message('a elephant cannot swim',Z,Y,save)\n",
    "ans = message('elephant swim january',Z,Y,save)\n",
    "assert('No' in ans)\n",
    "\n",
    "message('frog swim desert',Z,Y,save)\n",
    "message('you need water to swim',Z,Y,save)\n",
    "message('frog swim desert',Z,Y,save)\n",
    "message('a desert has no water',Z,Y,save)\n",
    "ans = message('frog swim desert',Z,Y,save)\n",
    "assert('No' in ans)"
   ]
  },
  {
   "cell_type": "code",
   "execution_count": 113,
   "metadata": {
    "collapsed": false
   },
   "outputs": [
    {
     "data": {
      "text/plain": [
       "'Explain it to me.'"
      ]
     },
     "execution_count": 113,
     "metadata": {},
     "output_type": "execute_result"
    }
   ],
   "source": [
    "message('frog swim desert',Z,Y,save)"
   ]
  },
  {
   "cell_type": "code",
   "execution_count": 114,
   "metadata": {
    "collapsed": false
   },
   "outputs": [
    {
     "name": "stdout",
     "output_type": "stream",
     "text": [
      " you need $0 to $1 \n",
      "water swim \n",
      "('req', [True, False, True], [2, 1, -1])\n"
     ]
    },
    {
     "data": {
      "text/plain": [
       "'Thanks.|Ask me a question.'"
      ]
     },
     "execution_count": 114,
     "metadata": {},
     "output_type": "execute_result"
    }
   ],
   "source": [
    "message('you need water to swim',Z,Y,save)"
   ]
  },
  {
   "cell_type": "code",
   "execution_count": 115,
   "metadata": {
    "collapsed": false
   },
   "outputs": [
    {
     "data": {
      "text/plain": [
       "'Explain it to me.'"
      ]
     },
     "execution_count": 115,
     "metadata": {},
     "output_type": "execute_result"
    }
   ],
   "source": [
    "message('frog swim desert',Z,Y,save)"
   ]
  },
  {
   "cell_type": "code",
   "execution_count": 116,
   "metadata": {
    "collapsed": false
   },
   "outputs": [
    {
     "name": "stdout",
     "output_type": "stream",
     "text": [
      " a $0 has no $1 \n",
      "desert water \n",
      "('req', [True, False, True], [-1, -1, -1])\n"
     ]
    },
    {
     "data": {
      "text/plain": [
       "'Thanks.|Ask me a question.'"
      ]
     },
     "execution_count": 116,
     "metadata": {},
     "output_type": "execute_result"
    }
   ],
   "source": [
    "message('a desert has no water',Z,Y,save)"
   ]
  },
  {
   "cell_type": "code",
   "execution_count": 117,
   "metadata": {
    "collapsed": false
   },
   "outputs": [
    {
     "data": {
      "text/plain": [
       "'No.| Ask me question.'"
      ]
     },
     "execution_count": 117,
     "metadata": {},
     "output_type": "execute_result"
    }
   ],
   "source": [
    "message('frog swim desert',Z,Y,save)"
   ]
  },
  {
   "cell_type": "code",
   "execution_count": 111,
   "metadata": {
    "collapsed": false
   },
   "outputs": [
    {
     "data": {
      "text/plain": [
       "{(u'anim', 0): [(u'air', 2, True)],\n",
       " (u'bird', -1): [(u'fli', -1, True)],\n",
       " (u'desert', -1): [(u'water', -1, False)],\n",
       " (u'dog', -1): [(u'fli', -1, False)],\n",
       " (u'eat', 1): [(u'edibl', 2, True)],\n",
       " (u'einstein', 0): [(u'aliv', 2, False)],\n",
       " (u'fli', 1): [(u'fli', 0, True)],\n",
       " (u'garbag', -1): [(u'edibl', -1, False)],\n",
       " (u'height:dog', -1): [(u'height:inch', -1, True)],\n",
       " (u'height:gat', -1): [(u'height:box', -1, True)],\n",
       " (u'outerspac', -1): [(u'air', -1, False)],\n",
       " (u'size:airplan', -1): [(u'size:train', -1, True)],\n",
       " (u'water', 2): [(u'swim', 1, True)],\n",
       " (u'weight:eleph', -1): [(u'weight:car', -1, True)]}"
      ]
     },
     "execution_count": 111,
     "metadata": {},
     "output_type": "execute_result"
    }
   ],
   "source": [
    "Z['requirements']"
   ]
  },
  {
   "cell_type": "code",
   "execution_count": 104,
   "metadata": {
    "collapsed": false
   },
   "outputs": [
    {
     "data": {
      "text/plain": [
       "{'DEBUG': True,\n",
       " 'reason_formulas': {' $0 and $1 are opposites ': ('neg',\n",
       "   [True, True, True],\n",
       "   [-1, -1, -1]),\n",
       "  ' $0 are $1 ': ('sub', [True, True, True], [-1, -1, -1]),\n",
       "  ' $0 do not have $1 ': ('reg', [True, True, True], [-1, -1, -1]),\n",
       "  ' $0 exist when it is $1 ': ('req', [True, True, True], [0, 2, -1]),\n",
       "  ' $0 is $1 ': ('req', [True, True, True], [0, 2, -1]),\n",
       "  ' $0 is a $1 ': ('sub', [True, True, True], [-1, -1, -1]),\n",
       "  ' $0 is a negative of $1 ': ('neg', [True, True, True], [-1, -1, -1]),\n",
       "  ' $0 is a opposite of $1 ': ('neg', [True, True, True], [-1, -1, -1]),\n",
       "  ' $0 is not $1 ': ('req', [True, False, True], [-1, -1, -1]),\n",
       "  ' $0 need $1 ': ('req', [True, True, True], [0, 2, -1]),\n",
       "  ' $1 are necessary to $0 ': ('req', [True, True, True], [-1, -1, -1]),\n",
       "  ' a $0 $1 $2 ': ('obs', [True, True, True], [-1, -1, -1]),\n",
       "  ' a $0 can $1 ': ('req', [True, True, True], [0, 1, -1]),\n",
       "  ' a $0 cannot $1 ': ('req', [True, False, True], [0, 1, -1]),\n",
       "  ' a $0 does not $1 ': ('req', [True, False, True], [0, 1, -1]),\n",
       "  ' a $0 does not $1 $2 ': ('obs', [True, False, True], [-1, -1, -1]),\n",
       "  ' a $0 does not have $1 ': ('req', [True, False, True], [-1, -1, -1]),\n",
       "  ' a $0 has no $1 ': ('req', [True, False, True], [-1, -1, -1]),\n",
       "  ' a $0 is $1 ': ('req', [True, True, True], [-1, -1, -1]),\n",
       "  ' a $0 is a $1 ': ('sub', [True, True, True], [-1, -1, -1]),\n",
       "  ' a $0 is a type of $1 ': ('sub', [True, True, True], [-1, -1, -1]),\n",
       "  ' a $0 is a variety of $1 ': ('sub', [True, True, True], [-1, -1, -1]),\n",
       "  ' a $0 needs $1 ': ('req', [True, True, True], [0, 2, -1]),\n",
       "  ' all $0 are $1 ': ('dub', [True, True, True], [-1, -1, -1]),\n",
       "  ' one cannot $1 in a $0 ': ('req', [True, False, True], [2, 1, -1]),\n",
       "  ' one needs $0 to $1 ': ('req', [True, True, True], [-1, -1, -1]),\n",
       "  ' only $1 $0 ': ('req', [True, True, True], [1, 0, -1]),\n",
       "  ' only a $1 can $0 ': ('req', [True, True, True], [1, 0, -1]),\n",
       "  ' people only $0 what is $1 ': ('req', [True, True, True], [1, 2, -1]),\n",
       "  ' there is no $1 in $0 ': ('req', [True, False, True], [-1, -1, -1]),\n",
       "  ' you cannot $1 in a $0 ': ('req', [True, False, True], [2, 1, -1]),\n",
       "  ' you need $0 to $1 ': ('req', [True, True, True], [-1, -1, -1]),\n",
       "  ' you need $1 to $0 ': ('req', [True, True, True], [1, 2, -1])},\n",
       " 'syntax_words': {'a',\n",
       "  'all',\n",
       "  'and',\n",
       "  'are',\n",
       "  'can',\n",
       "  'cannot',\n",
       "  'do',\n",
       "  'does',\n",
       "  'exist',\n",
       "  'has',\n",
       "  'have',\n",
       "  'in',\n",
       "  'is',\n",
       "  'it',\n",
       "  'necessary',\n",
       "  'need',\n",
       "  'needs',\n",
       "  'negative',\n",
       "  'no',\n",
       "  'not',\n",
       "  'of',\n",
       "  'one',\n",
       "  'only',\n",
       "  'opposite',\n",
       "  'opposites',\n",
       "  'people',\n",
       "  'there',\n",
       "  'to',\n",
       "  'type',\n",
       "  'variety',\n",
       "  'what',\n",
       "  'when',\n",
       "  'you'}}"
      ]
     },
     "execution_count": 104,
     "metadata": {},
     "output_type": "execute_result"
    }
   ],
   "source": [
    "Y"
   ]
  },
  {
   "cell_type": "code",
   "execution_count": 74,
   "metadata": {
    "collapsed": false
   },
   "outputs": [
    {
     "data": {
      "text/plain": [
       "{(u'anim', 0): [(u'air', 2, True)],\n",
       " (u'bird', -1): [(u'fli', -1, True)],\n",
       " (u'dog', -1): [(u'fli', -1, False)],\n",
       " (u'eat', 1): [(u'edibl', 2, True)],\n",
       " (u'einstein', 0): [(u'aliv', 2, False)],\n",
       " (u'eleph', 0): [(u'swim', -1, False)],\n",
       " (u'fli', 1): [(u'fli', 0, True)],\n",
       " (u'garbag', -1): [(u'edibl', -1, False)],\n",
       " (u'height:dog', -1): [(u'height:inch', -1, True)],\n",
       " (u'height:gat', -1): [(u'height:box', -1, True)],\n",
       " (u'outerspac', -1): [(u'air', -1, False)],\n",
       " (u'size:airplan', -1): [(u'size:train', -1, True)],\n",
       " (u'weight:eleph', -1): [(u'weight:car', -1, True)]}"
      ]
     },
     "execution_count": 74,
     "metadata": {},
     "output_type": "execute_result"
    }
   ],
   "source": [
    "Z['requirements']"
   ]
  },
  {
   "cell_type": "code",
   "execution_count": null,
   "metadata": {
    "collapsed": true
   },
   "outputs": [],
   "source": [
    "a frog does not swim\n",
    "a frog cannot swim\n",
    "\n",
    "a frog does not have arms\n",
    "arms are necessary to throw\n",
    "you need arms to throw\n",
    "one needs arms to throw\n",
    "\n",
    "one cannot swim in the desert\n",
    "you cannot swim in the desert\n",
    "\n",
    "a desert has no water\n",
    "you need water to swim\n",
    "\n",
    "\n"
   ]
  },
  {
   "cell_type": "code",
   "execution_count": null,
   "metadata": {
    "collapsed": true
   },
   "outputs": [],
   "source": [
    "a dog is an animal\n",
    "dogs are animals\n",
    "a dog is a type of animal\n",
    "a banana is a variety of fruit\n",
    "a fruit is food\n",
    "all dogs are animals"
   ]
  },
  {
   "cell_type": "code",
   "execution_count": null,
   "metadata": {
    "collapsed": true
   },
   "outputs": [],
   "source": [
    "happy is the opposite of sad\n",
    "happy is the negative of sad\n",
    "happy is not sad\n",
    "happy and sad are opposites"
   ]
  },
  {
   "cell_type": "code",
   "execution_count": null,
   "metadata": {
    "collapsed": true
   },
   "outputs": [],
   "source": [
    "dogs do not have arms\n",
    "a dog does not have arms\n",
    "a giraffe is tall\n",
    "fires exist when it is hot\n"
   ]
  },
  {
   "cell_type": "code",
   "execution_count": null,
   "metadata": {
    "collapsed": true
   },
   "outputs": [],
   "source": [
    "dogs cannot eat chocolate\n",
    "fires start when it is hot"
   ]
  }
 ],
 "metadata": {
  "kernelspec": {
   "display_name": "Python 2",
   "language": "python",
   "name": "python2"
  },
  "language_info": {
   "codemirror_mode": {
    "name": "ipython",
    "version": 2
   },
   "file_extension": ".py",
   "mimetype": "text/x-python",
   "name": "python",
   "nbconvert_exporter": "python",
   "pygments_lexer": "ipython2",
   "version": "2.7.13"
  }
 },
 "nbformat": 4,
 "nbformat_minor": 0
}
